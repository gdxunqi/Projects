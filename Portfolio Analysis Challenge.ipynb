{
 "cells": [
  {
   "cell_type": "markdown",
   "id": "e7208da5-df75-4dc7-9a9f-b456adb24ca8",
   "metadata": {
    "deletable": false,
    "editable": false,
    "nbgrader": {
     "cell_type": "markdown",
     "checksum": "1fbc12636fec35134ea86c7afc8dd35e",
     "grade": false,
     "grade_id": "cell-c7fcbc19f88a6f6d",
     "locked": true,
     "schema_version": 3,
     "solution": false,
     "task": false
    }
   },
   "source": [
    "# Welcome to the Portfolio Analysis Challenge!\n",
    "This Jupyter Notebook serves as a comprehensive introduction to the fundamentals of portfolio analysis. It demonstrates how to build insightful performance summaries using Python’s NumPy and Pandas libraries. You will learn how to compute key financial metrics such as returns, risk-adjusted returns, volatility and a variety of risk measures.\n",
    "\n",
    "In the field of finance, it is essential to have a quick and effective way of assessing a portfolio’s performance. This is where a tearsheet proves invaluable. A tearsheet provides a concise yet informative overview of a portfolio’s key characteristics, allowing investors to rapidly identify its strengths and potential weaknesses. A well-designed tearsheet is an indispensable tool for making informed investment decisions.\n",
    "\n",
    "## Challenge Overview\n",
    "**1. Portfolio Analysis:**\n",
    "- **Objective:** To develop functions that calculate key portfolio performance metrics using Pandas and NumPy.\n",
    "- **Tasks:**\n",
    "    - Calculate various return metrics, including daily returns and cumulative returns\n",
    "    - Compute volatility measures, such as annualised volatility and beta\n",
    "    - Calculate the Sharpe ratio, a common metric for evaluating risk-adjusted returns\n",
    "    - Evaluate risk using metrics such as maximum drawdown and Value-at-Risk (VaR)\n",
    "    - Generate a tearsheet, comprising a series of plots that visually summarise your portfolio’s performance\n",
    "\n",
    "## Guidance\n",
    "### Understanding Function Input/Output Types:\n",
    "```python\n",
    "example_function(df: pd.DataFrame) -> float:\n",
    "    return df.cov().iloc[0, 1]\n",
    "```\n",
    "Please verify that your function returns a float when indicated. Incorrect data types may cause your submission to be marked incorrectly.\n",
    "\n",
    "### Testing & Grading\n",
    "To aid in the performance evaluation of your functions, test cases are provided for each challenge. Subsequently, the functions will be graded using hidden tests.\n",
    "\n",
    "If you fail a sample test, you will be given an `AssertionError`. It is advised that you continue to work on the step until you pass the sample tests."
   ]
  },
  {
   "cell_type": "code",
   "execution_count": 4,
   "id": "d3fdd20c-55c1-46a7-a974-ceeb3db534d5",
   "metadata": {
    "deletable": false,
    "editable": false,
    "nbgrader": {
     "cell_type": "code",
     "checksum": "4084a63f518ff74f9dd598ce97dceb30",
     "grade": false,
     "grade_id": "cell-cb3e660986a0f211",
     "locked": true,
     "schema_version": 3,
     "solution": false,
     "task": false
    }
   },
   "outputs": [],
   "source": [
    "# Libraries to be used throughout this challenge\n",
    "import matplotlib.pyplot as plt\n",
    "import numpy as np\n",
    "import os\n",
    "import pandas as pd\n",
    "import requests\n",
    "from matplotlib.ticker import FuncFormatter\n",
    "\n",
    "from AmplifyQuantTrading import Data\n",
    "\n",
    "plt.style.use(\"_mpl-gallery\")"
   ]
  },
  {
   "cell_type": "code",
   "execution_count": null,
   "id": "06671153-bd54-473c-b69f-4f5558313606",
   "metadata": {
    "deletable": false,
    "editable": false,
    "nbgrader": {
     "cell_type": "code",
     "checksum": "ff710b52703fd3846e6b51281d70e671",
     "grade": true,
     "grade_id": "cell-9e8f24dca4445cb3",
     "locked": true,
     "points": 0,
     "schema_version": 3,
     "solution": false,
     "task": false
    }
   },
   "outputs": [],
   "source": [
    "# HIDDEN PARAMETERS"
   ]
  },
  {
   "cell_type": "markdown",
   "id": "df155464-011c-4b67-b148-0f7b13396a93",
   "metadata": {
    "deletable": false,
    "editable": false,
    "nbgrader": {
     "cell_type": "markdown",
     "checksum": "0fbb761f8d1a4b96848dfd5443aad42c",
     "grade": false,
     "grade_id": "cell-1beff72600764154",
     "locked": true,
     "schema_version": 3,
     "solution": false,
     "task": false
    }
   },
   "source": [
    "<hr style=\"border: none; height: 2px; background-color: #bcbcbc\">\n",
    "\n",
    "# Challenge 1: Portfolio Analysis\n",
    "### Summary\n",
    "This challenge focuses on the core aspects of evaluating investment portfolios, giving you practical experience in assessing performance and risk. Understanding these characteristics is key for any investor.\n",
    "\n",
    "### Imported Data\n",
    "The variables `portfolio_prices` and `benchmark_prices` are Pandas DataFrames, available for your use. `portfolio_prices` contains **price data** for a portfolio of assets. Additionally, `benchmark_prices` contains **price data** for a relevant benchmark index against which the portfolio's performance will be compared.\n",
    "\n",
    "Additionally, the variable `sample_prices` is a Pandas DataFrame intended for unit testing. It contains sample **price data** that will be used to evaluate the performance of your functions."
   ]
  },
  {
   "cell_type": "code",
   "execution_count": 5,
   "id": "ef58411f-ae8f-4742-9e60-4fe41d02242d",
   "metadata": {
    "deletable": false,
    "editable": false,
    "nbgrader": {
     "cell_type": "code",
     "checksum": "9ed57e52f4803287891cdb7d064c3734",
     "grade": false,
     "grade_id": "cell-ceeba49d128323d0",
     "locked": true,
     "schema_version": 3,
     "solution": false,
     "task": false
    }
   },
   "outputs": [],
   "source": [
    "portfolio_prices = Data.get_price_series(\"Portfolio_Analysis_Portfolio_Prices\", True)\n",
    "benchmark_prices = Data.get_price_series(\"Portfolio_Analysis_Benchmark_Prices\", True)\n",
    "sample_prices = Data.get_price_series(\"Sample_Prices\", True)"
   ]
  },
  {
   "cell_type": "markdown",
   "id": "233ab4e2-8f36-4655-b1a9-d6cf1fea3dd6",
   "metadata": {
    "deletable": false,
    "editable": false,
    "nbgrader": {
     "cell_type": "markdown",
     "checksum": "3027b899db4da366f64c46b06b30264f",
     "grade": false,
     "grade_id": "cell-d247e6529569666a",
     "locked": true,
     "schema_version": 3,
     "solution": false,
     "task": false
    }
   },
   "source": [
    "<hr style=\"border: none; height: 2px; background-color: #bcbcbc\">\n",
    "\n",
    "## Step 1: Return\n",
    "This first step centres on the calculation of various return metrics for the portfolio. Our analysis will encompass daily returns, expected returns, the minimum and maximum returns observed and the cumulative returns achieved.\n",
    "\n",
    "<hr style=\"border: none; border-top: 2px dashed #bcbcbc; background-color: transparent\">\n",
    "\n",
    "### Daily Return\n",
    "The daily return of a portfolio quantifies the percentage by which its value has either increased or decreased over a single trading day. This is typically calculated based on the change in the portfolio's market price or net asset value. Your task is to implement a function that, given a Pandas DataFrame, computes the daily return and returns it as a Pandas DataFrame. Calculate the daily return using the Pandas functions `pct_change()` and `dropna()`."
   ]
  },
  {
   "cell_type": "code",
   "execution_count": 12,
   "id": "2a9eeb63-c4fd-47dd-a0c9-1bd3ae5fc540",
   "metadata": {
    "deletable": false,
    "nbgrader": {
     "cell_type": "code",
     "checksum": "b7d497dfc122f0e5ec3a5d9d120e0d34",
     "grade": false,
     "grade_id": "cell-8a6494dc843d2b50",
     "locked": false,
     "schema_version": 3,
     "solution": true,
     "task": false
    }
   },
   "outputs": [],
   "source": [
    "def daily_return(prices: pd.DataFrame) -> pd.DataFrame:\n",
    "    # Insert your answer code here\n",
    "    daily_return = prices.pct_change().dropna()\n",
    "    return daily_return\n",
    "\n",
    "    "
   ]
  },
  {
   "cell_type": "markdown",
   "id": "87a1bc75-439a-4034-93fb-d6879bf2299f",
   "metadata": {
    "deletable": false,
    "editable": false,
    "nbgrader": {
     "cell_type": "markdown",
     "checksum": "b4e7c13280bdb97c2bf7f721b041f25a",
     "grade": false,
     "grade_id": "cell-d177b0058caf730e",
     "locked": true,
     "schema_version": 3,
     "solution": false,
     "task": false
    }
   },
   "source": [
    "<hr style=\"border: none; border-top: 2px dashed #bcbcbc; background-color: transparent\">\n",
    "\n",
    "### Sample Tests\n",
    "The code provided below will call the `daily_return()` function, passing the Pandas DataFrame `sample_prices` as an argument. Verify that your function's output is of the correct data type, that it has the correct shape and outputs the correct numerical values."
   ]
  },
  {
   "cell_type": "code",
   "execution_count": 13,
   "id": "b20a30e0-b92a-4edc-97b3-9613f280c218",
   "metadata": {
    "deletable": false,
    "editable": false,
    "nbgrader": {
     "cell_type": "code",
     "checksum": "86e6b376875b8192baecd4dbcd60f66b",
     "grade": false,
     "grade_id": "cell-3840d599acac6de9",
     "locked": true,
     "schema_version": 3,
     "solution": false,
     "task": false
    }
   },
   "outputs": [
    {
     "name": "stdout",
     "output_type": "stream",
     "text": [
      "Output Data:\n",
      "\n",
      "Ticker      Sample 1\n",
      "date                \n",
      "2001-07-03 -0.001845\n",
      "2001-07-05 -0.027726\n",
      "2001-07-06 -0.036122\n",
      "2001-07-09 -0.005424\n",
      "2001-07-10 -0.018344\n",
      "...              ...\n",
      "2002-08-26 -0.001871\n",
      "2002-08-27 -0.024375\n",
      "2002-08-28 -0.028828\n",
      "2002-08-29  0.024406\n",
      "2002-08-30 -0.029620\n",
      "\n",
      "[290 rows x 1 columns]\n",
      "\n",
      "Output Type: DataFrame, Output Shape: (290, 1)\n",
      "\n",
      "Expected Type: DataFrame, Expected Shape: (290, 1)\n",
      "\n",
      "Passed: True\n",
      "\n"
     ]
    }
   ],
   "source": [
    "# SAMPLE GRADING\n",
    "ans_1 = daily_return(sample_prices)\n",
    "print(f\"Output Data:\\n\\n{ans_1}\\n\\nOutput Type: {type(ans_1).__name__}, Output Shape: {ans_1.shape}\\n\")\n",
    "print(\"Expected Type: DataFrame, Expected Shape: (290, 1)\\n\")\n",
    "sol_1 = [-0.02962009014810041, 0.02440633245382573, -0.028827674567584838]\n",
    "for i in range(1, 4):\n",
    "    assert sol_1[i - 1] == ans_1.iloc[- i, 0]\n",
    "assert (type(ans_1).__name__ == \"DataFrame\") and (ans_1.shape == (290, 1))\n",
    "print(\"Passed: True\\n\")"
   ]
  },
  {
   "cell_type": "markdown",
   "id": "1f308f2b-5c33-403f-bc61-f7a8e16c4d15",
   "metadata": {
    "deletable": false,
    "editable": false,
    "nbgrader": {
     "cell_type": "markdown",
     "checksum": "d211576c6339a8caf4a4229321f42de8",
     "grade": false,
     "grade_id": "cell-6e160a93026c6a86",
     "locked": true,
     "schema_version": 3,
     "solution": false,
     "task": false
    }
   },
   "source": [
    "<hr style=\"border: none; border-top: 2px dashed #bcbcbc; background-color: transparent\">\n",
    "\n",
    "### Expected Return\n",
    "The expected return is another useful metric. The expected daily return can be determined using the Pandas function `mean()`, which calculates the arithmetic average of the daily returns. The expected return is defined to be\n",
    "$$\\mu_d=\\mathbb{E}[R],$$\n",
    "$$\\mu_m=21\\times\\mathbb{E}[R],$$\n",
    "$$\\mu_y=252\\times\\mathbb{E}[R],$$\n",
    "where $\\mu_d$ is the expected daily return, $\\mu_m$ is the expected monthly return and $\\mu_y$ is the expected yearly return. Your task is to implement a function that given the daily return, $R$, computes the expected daily, monthly and yearly return **in that order!** Ensure that the three values returned are **Floats** or **NumPy Floats!**"
   ]
  },
  {
   "cell_type": "code",
   "execution_count": 20,
   "id": "34406280-45d8-4e39-a435-42bb5e6f2277",
   "metadata": {
    "deletable": false,
    "nbgrader": {
     "cell_type": "code",
     "checksum": "02de297b3046f818094c7aeef2d83c46",
     "grade": false,
     "grade_id": "cell-ee732fc765ec64b1",
     "locked": false,
     "schema_version": 3,
     "solution": true,
     "task": false
    }
   },
   "outputs": [],
   "source": [
    "def expected_return(R: pd.DataFrame) -> (np.float64, np.float64, np.float64):\n",
    "    # Insert your answer code here\n",
    "    mu_d = R.mean().values[0]\n",
    "    mu_m = mu_d * 21\n",
    "    mu_y = mu_d * 252\n",
    "    return (np.float64(mu_d), np.float64(mu_m), np.float64(mu_y))"
   ]
  },
  {
   "cell_type": "markdown",
   "id": "5e60268b-d1c2-437a-9e3b-7df7967ae621",
   "metadata": {
    "deletable": false,
    "editable": false,
    "nbgrader": {
     "cell_type": "markdown",
     "checksum": "fbb660855916ec435982516459302253",
     "grade": false,
     "grade_id": "cell-81b4335489877bcf",
     "locked": true,
     "schema_version": 3,
     "solution": false,
     "task": false
    }
   },
   "source": [
    "<hr style=\"border: none; border-top: 2px dashed #bcbcbc; background-color: transparent\">\n",
    "\n",
    "### Test Cases\n",
    "The code provided below will call the `expected_return()` function. Verify that your function's outputs are the correct numerical value and of the correct data type.\n",
    "\n",
    "The code provided below will also perform hidden tests to evaluate your `expected_return()` function."
   ]
  },
  {
   "cell_type": "code",
   "execution_count": 21,
   "id": "a4419a46-6341-420b-b922-a93b2b964ef2",
   "metadata": {
    "deletable": false,
    "editable": false,
    "nbgrader": {
     "cell_type": "code",
     "checksum": "264cec908da23354fde5e3e48c133227",
     "grade": false,
     "grade_id": "cell-359e07695d77f249",
     "locked": true,
     "schema_version": 3,
     "solution": false,
     "task": false
    }
   },
   "outputs": [
    {
     "name": "stdout",
     "output_type": "stream",
     "text": [
      "Output Type: tuple(float64, float64, float64), Output Length: 3\n",
      "\n",
      "Expected Type: tuple(float64, float64, float64), Expected Length: 3\n",
      "\n",
      "Passed: True\n",
      "\n"
     ]
    }
   ],
   "source": [
    "# SAMPLE GRADING\n",
    "R = daily_return(sample_prices)\n",
    "ans_1 = expected_return(R)\n",
    "print(f\"Output Type: {type(ans_1).__name__}({type(ans_1[0]).__name__}, {type(ans_1[1]).__name__}, {type(ans_1[2]).__name__}), Output Length: {len(ans_1)}\\n\")\n",
    "print(\"Expected Type: tuple(float64, float64, float64), Expected Length: 3\\n\")\n",
    "sol_1 = [-0.0008929622691871521, -0.018752207652930196, -0.22502649183516235]\n",
    "for i in range(3):\n",
    "    assert sol_1[i] == ans_1[i]\n",
    "    assert type(ans_1[i]).__name__ == \"float64\"\n",
    "assert (type(ans_1).__name__ == \"tuple\") and (len(ans_1) == 3)\n",
    "print(\"Passed: True\\n\")"
   ]
  },
  {
   "cell_type": "code",
   "execution_count": null,
   "id": "4b71e4a9-b2fd-4687-94fa-f3049af0e202",
   "metadata": {
    "deletable": false,
    "editable": false,
    "nbgrader": {
     "cell_type": "code",
     "checksum": "0bebed6d525fe8d07e2ce64451ad1c91",
     "grade": true,
     "grade_id": "cell-1a014a1c6c5d3909",
     "locked": true,
     "points": 0,
     "schema_version": 3,
     "solution": false,
     "task": false
    }
   },
   "outputs": [],
   "source": [
    "# HIDDEN GRADING"
   ]
  },
  {
   "cell_type": "markdown",
   "id": "733f371c-3b3d-4d69-a115-3662b5ffd0dd",
   "metadata": {
    "deletable": false,
    "editable": false,
    "nbgrader": {
     "cell_type": "markdown",
     "checksum": "26675336e1332d14f4e50c0c1383dc81",
     "grade": false,
     "grade_id": "cell-dd8b06d9164b4227",
     "locked": true,
     "schema_version": 3,
     "solution": false,
     "task": false
    }
   },
   "source": [
    "<hr style=\"border: none; border-top: 2px dashed #bcbcbc; background-color: transparent\">\n",
    "\n",
    "### Minimum/Maximum Return\n",
    "Understanding the highest and lowest returns a portfolio has achieved across different periods is also valuable. Your task is to implement a function that, given the daily return and a frequency, returns the **minimum** and **maximum return** of that period **in that order!** Below is code that groups and sums the daily return by a certain frequency e.g., by week, month or even year.\n",
    "```python\n",
    "R.groupby(pd.Grouper(freq=\"ME\")).sum()\n",
    "```\n",
    "In this example, $R$ is the daily return and the string \"ME\" refers to a monthly grouping. Following this code, the minimum/maximum return should be computed using the Pandas function `min()` or `max()`. Ensure that the two values returned are **Floats** or **NumPy Floats!**"
   ]
  },
  {
   "cell_type": "code",
   "execution_count": 30,
   "id": "7b2000ec-47ee-459b-bb9a-9a588daa861b",
   "metadata": {
    "deletable": false,
    "nbgrader": {
     "cell_type": "code",
     "checksum": "12fd12cd5c633ff768e55a462db2cd3e",
     "grade": false,
     "grade_id": "cell-0f56e9075490c10b",
     "locked": false,
     "schema_version": 3,
     "solution": true,
     "task": false
    }
   },
   "outputs": [],
   "source": [
    "def minmax_return(R: pd.DataFrame, freq: str) -> (np.float64, np.float64):\n",
    "    # Insert your answer code here\n",
    "    period_returns = R.groupby(pd.Grouper(freq=freq)).sum()\n",
    "    minimum = period_returns.min().values[0]\n",
    "    maximum = period_returns.max().values[0]\n",
    "    return(np.float64(minimum), np.float64(maximum))"
   ]
  },
  {
   "cell_type": "markdown",
   "id": "6873da05-f52f-4d95-a1b9-643ccf0d6bdf",
   "metadata": {
    "deletable": false,
    "editable": false,
    "nbgrader": {
     "cell_type": "markdown",
     "checksum": "d47ae89e7d9c811b1b2498310528faa4",
     "grade": false,
     "grade_id": "cell-c6e5b91786b5a30c",
     "locked": true,
     "schema_version": 3,
     "solution": false,
     "task": false
    }
   },
   "source": [
    "<hr style=\"border: none; border-top: 2px dashed #bcbcbc; background-color: transparent\">\n",
    "\n",
    "### Test Cases\n",
    "The code provided below will call the `minmax_return()` function. Verify that your function's outputs are the correct numerical value and of the correct data type.\n",
    "\n",
    "The code provided below will also perform hidden tests to evaluate your `minmax_return()` function."
   ]
  },
  {
   "cell_type": "code",
   "execution_count": 31,
   "id": "26467ed9-711a-40cd-8cc0-fa83d105e39f",
   "metadata": {
    "deletable": false,
    "editable": false,
    "nbgrader": {
     "cell_type": "code",
     "checksum": "b45a456eb26e463a46cdc2707b836357",
     "grade": false,
     "grade_id": "cell-9eee24b3046453c2",
     "locked": true,
     "schema_version": 3,
     "solution": false,
     "task": false
    }
   },
   "outputs": [
    {
     "name": "stdout",
     "output_type": "stream",
     "text": [
      "Output Type: tuple(float64, float64), Output Length: 2\n",
      "\n",
      "Expected Type: tuple(float64, float64), Expected Length: 2\n",
      "\n",
      "Passed: True\n",
      "\n"
     ]
    }
   ],
   "source": [
    "# SAMPLE GRADING\n",
    "R = daily_return(sample_prices)\n",
    "ans_1 = minmax_return(R, \"ME\")\n",
    "print(f\"Output Type: {type(ans_1).__name__}({type(ans_1[0]).__name__}, {type(ans_1[1]).__name__}), Output Length: {len(ans_1)}\\n\")\n",
    "print(\"Expected Type: tuple(float64, float64), Expected Length: 2\\n\")\n",
    "sol_1 = [-0.14213926971337232, 0.13653427829276155]\n",
    "for i in range(2):\n",
    "    assert sol_1[i] == ans_1[i]\n",
    "    assert type(ans_1[i]).__name__ == \"float64\"\n",
    "assert (type(ans_1).__name__ == \"tuple\") and (len(ans_1) == 2)\n",
    "print(\"Passed: True\\n\")"
   ]
  },
  {
   "cell_type": "code",
   "execution_count": null,
   "id": "7fe1ca94-70cf-41bf-aef3-f74cd2a6ca8f",
   "metadata": {
    "deletable": false,
    "editable": false,
    "nbgrader": {
     "cell_type": "code",
     "checksum": "128a5e7a8dc520f7bdafb0d068e66cc7",
     "grade": true,
     "grade_id": "cell-8b2c63d249a510f2",
     "locked": true,
     "points": 0,
     "schema_version": 3,
     "solution": false,
     "task": false
    }
   },
   "outputs": [],
   "source": [
    "# HIDDEN GRADING"
   ]
  },
  {
   "cell_type": "markdown",
   "id": "4606e2e4-fe43-407a-8f3e-7cc0f057d976",
   "metadata": {
    "deletable": false,
    "editable": false,
    "nbgrader": {
     "cell_type": "markdown",
     "checksum": "57bd4e8479d0af27afcc5fbd4af7bf03",
     "grade": false,
     "grade_id": "cell-5182e99460a3ab3d",
     "locked": true,
     "schema_version": 3,
     "solution": false,
     "task": false
    }
   },
   "source": [
    "<hr style=\"border: none; border-top: 2px dashed #bcbcbc; background-color: transparent\">\n",
    "\n",
    "### Cumulative Return\n",
    "One of the most crucial metrics for evaluating the historical performance of a portfolio is its cumulative return. This metric provides a clear picture of the overall growth of an investment over a specific period. The cumulative return can be computed using the formula\n",
    "$$C_t=\\prod_{i=0}^{t}(R_i+1),$$\n",
    "where $C_t$ is the cumulative return at the $t$-th data point and $R_i$ is the return at the $i$-th data point.\n",
    "\n",
    "Your task is to implement a function that, given the daily return, computes the cumulative return and returns it as a Pandas DataFrame. Calculate the cumulative return using the Pandas Function `cumprod()`. Ensure that the output of your function is a Pandas DataFrame."
   ]
  },
  {
   "cell_type": "code",
   "execution_count": 34,
   "id": "950ba33a-83f1-4519-bd96-7d9ce56b150b",
   "metadata": {
    "deletable": false,
    "nbgrader": {
     "cell_type": "code",
     "checksum": "8c8ed341a62b8284f70759dd4bbff1e2",
     "grade": false,
     "grade_id": "cell-c54145757f6f4944",
     "locked": false,
     "schema_version": 3,
     "solution": true,
     "task": false
    }
   },
   "outputs": [],
   "source": [
    "def cum_return(R: pd.DataFrame) -> pd.DataFrame:\n",
    "    # Insert your answer code here\n",
    "    cum_return = (1+R).cumprod()\n",
    "    return(cum_return)"
   ]
  },
  {
   "cell_type": "markdown",
   "id": "3328990f-2c30-479c-8b20-014bf90d55fd",
   "metadata": {
    "deletable": false,
    "editable": false,
    "nbgrader": {
     "cell_type": "markdown",
     "checksum": "05e1477c0ad59bbf5da9ef0c299c3be6",
     "grade": false,
     "grade_id": "cell-dfaeae6059041628",
     "locked": true,
     "schema_version": 3,
     "solution": false,
     "task": false
    }
   },
   "source": [
    "<hr style=\"border: none; border-top: 2px dashed #bcbcbc; background-color: transparent\">\n",
    "\n",
    "### Test Cases\n",
    "The code provided below will call the `cum_return()` function. Verify that your function's output is of the correct data type, that it has the correct shape and outputs the correct numerical values.\n",
    "\n",
    "The code provided below will also perform hidden tests to evaluate your `cum_return()` function."
   ]
  },
  {
   "cell_type": "code",
   "execution_count": 35,
   "id": "74543b84-7943-410b-9274-e6992d1385cc",
   "metadata": {
    "deletable": false,
    "editable": false,
    "nbgrader": {
     "cell_type": "code",
     "checksum": "c9b127befcc66b30581720036d6d2d8e",
     "grade": false,
     "grade_id": "cell-313412a600b2fb08",
     "locked": true,
     "schema_version": 3,
     "solution": false,
     "task": false
    }
   },
   "outputs": [
    {
     "name": "stdout",
     "output_type": "stream",
     "text": [
      "Output Data:\n",
      "\n",
      "Ticker      Sample 1\n",
      "date                \n",
      "2001-07-03  0.998155\n",
      "2001-07-05  0.970480\n",
      "2001-07-06  0.935424\n",
      "2001-07-09  0.930351\n",
      "2001-07-10  0.913284\n",
      "...              ...\n",
      "2002-08-26  0.738007\n",
      "2002-08-27  0.720018\n",
      "2002-08-28  0.699262\n",
      "2002-08-29  0.716328\n",
      "2002-08-30  0.695111\n",
      "\n",
      "[290 rows x 1 columns]\n",
      "\n",
      "Output Type: DataFrame, Output Shape: (290, 1)\n",
      "\n",
      "Expected Type: DataFrame, Expected Shape: (290, 1)\n",
      "\n",
      "Passed: True\n",
      "\n"
     ]
    }
   ],
   "source": [
    "# SAMPLE GRADING\n",
    "R = daily_return(sample_prices)\n",
    "ans_1 = cum_return(R)\n",
    "print(f\"Output Data:\\n\\n{ans_1}\\n\\nOutput Type: {type(ans_1).__name__}, Output Shape: {ans_1.shape}\\n\")\n",
    "print(\"Expected Type: DataFrame, Expected Shape: (290, 1)\\n\")\n",
    "sol_1 = [0.6951107011070112, 0.716328413284133, 0.6992619926199264]\n",
    "for i in range(1, 4):\n",
    "    assert sol_1[i - 1] == ans_1.iloc[- i, 0]\n",
    "assert (type(ans_1).__name__ == \"DataFrame\") and (ans_1.shape == (290, 1))\n",
    "print(\"Passed: True\\n\")"
   ]
  },
  {
   "cell_type": "code",
   "execution_count": null,
   "id": "c6c86b7d-0179-408d-96d2-508b2f3b1c31",
   "metadata": {
    "deletable": false,
    "editable": false,
    "nbgrader": {
     "cell_type": "code",
     "checksum": "07355bcd7aac42a2c48994d19814edfc",
     "grade": true,
     "grade_id": "cell-dc15c79197c4defa",
     "locked": true,
     "points": 0,
     "schema_version": 3,
     "solution": false,
     "task": false
    }
   },
   "outputs": [],
   "source": [
    "# HIDDEN GRADING"
   ]
  },
  {
   "cell_type": "markdown",
   "id": "ad93a38a-2341-4731-8207-18011f638cc1",
   "metadata": {
    "deletable": false,
    "editable": false,
    "nbgrader": {
     "cell_type": "markdown",
     "checksum": "5ae35a09327777609dd78a10b72c90ff",
     "grade": false,
     "grade_id": "cell-fb3c7934a0b6a036",
     "locked": true,
     "schema_version": 3,
     "solution": false,
     "task": false
    }
   },
   "source": [
    "<hr style=\"border: none; border-top: 2px dashed #bcbcbc; background-color: transparent\">\n",
    "\n",
    "### Higher Moments\n",
    "Lastly, we will determine the skewness and kurtosis of the portfolio's daily return. The significance of this lies in the fact that, in the real world, investment returns rarely follow a textbook normal distribution. To demonstrate this deviation, let's visualise it with a graph.\n",
    "\n",
    "The variable `example_prices` is a Pandas DataFrame that contains example **price data**, used to demonstrate non-normal return."
   ]
  },
  {
   "cell_type": "code",
   "execution_count": 36,
   "id": "1175b9bb-a9ba-4dc1-9533-973ce14f848c",
   "metadata": {
    "deletable": false,
    "editable": false,
    "nbgrader": {
     "cell_type": "code",
     "checksum": "0b39bf5206efad8fe6fba75fe4e03c36",
     "grade": false,
     "grade_id": "cell-5e9ff3fd1956a1bc",
     "locked": true,
     "schema_version": 3,
     "solution": false,
     "task": false
    }
   },
   "outputs": [
    {
     "data": {
      "image/png": "[encoded data removed]",
      "text/plain": [
       "<Figure size 1500x600 with 1 Axes>"
      ]
     },
     "metadata": {},
     "output_type": "display_data"
    }
   ],
   "source": [
    "# Import neccessary library\n",
    "from scipy.stats import norm\n",
    "\n",
    "# Import the price data\n",
    "example_prices = Data.get_price_series(\"Portfolio_Analysis_Example_Prices\", True)\n",
    "\n",
    "\n",
    "def percent_formatter_0(x, pos):\n",
    "    return f\"{x:.0f}%\"\n",
    "\n",
    "\n",
    "# Compute daily return as a percentage for plotting\n",
    "y = example_prices.pct_change().dropna() * 100\n",
    "\n",
    "# Initialise an axis for plotting\n",
    "fig, ax = plt.subplots(figsize=(15, 6))\n",
    "\n",
    "# Histogram: Daily return of example stock\n",
    "ax.hist(y, bins=40, density=True, alpha=0.4)\n",
    "x_axis = np.linspace(np.min(y), np.max(y), 100)\n",
    "ax.plot(\n",
    "    x_axis,\n",
    "    norm.pdf(x_axis, y.mean(), y.std()),\n",
    "    lw=3,\n",
    "    label=\"Normal Distribution\",\n",
    ")\n",
    "ax.set_title(\"Daily Return Of Example Stock\", fontsize=20)\n",
    "ax.set_xlabel(\"Daily Return\", fontsize=16)\n",
    "ax.xaxis.set_major_formatter(FuncFormatter(percent_formatter_0))\n",
    "ax.xaxis.set_tick_params(labelsize=12)\n",
    "ax.legend(loc=\"upper left\", fontsize=12)\n",
    "\n",
    "plt.show()"
   ]
  },
  {
   "cell_type": "markdown",
   "id": "51a26a99-5a5f-4ea3-8bb0-31613930326e",
   "metadata": {
    "deletable": false,
    "editable": false,
    "nbgrader": {
     "cell_type": "markdown",
     "checksum": "d54ceed0e0e6c361c04e093de214ec81",
     "grade": false,
     "grade_id": "cell-3ae9eb22f365a965",
     "locked": true,
     "schema_version": 3,
     "solution": false,
     "task": false
    }
   },
   "source": [
    "As is evident, the daily returns do not exhibit a normal distribution. Skewness and kurtosis are valuable in elucidating the asymmetry and tail behaviour of these returns. Below is code that prints the skeweness and the kurtosis of the example return data for you."
   ]
  },
  {
   "cell_type": "code",
   "execution_count": 37,
   "id": "28a472d7-f434-4659-a3a2-daaaa45edc46",
   "metadata": {
    "deletable": false,
    "editable": false,
    "nbgrader": {
     "cell_type": "code",
     "checksum": "3dffefc66fb28bddae15f4666f4105f1",
     "grade": false,
     "grade_id": "cell-0e7b59caa767032c",
     "locked": true,
     "schema_version": 3,
     "solution": false,
     "task": false
    }
   },
   "outputs": [
    {
     "name": "stdout",
     "output_type": "stream",
     "text": [
      "Skeweness: 0.6541704359535628\n",
      "\n",
      "Kurtosis: 3.8838006223978714\n"
     ]
    }
   ],
   "source": [
    "ex_skew = example_prices.pct_change().dropna().skew().iloc[0]\n",
    "ex_kurt = example_prices.pct_change().dropna().kurt().iloc[0]\n",
    "print(f\"Skeweness: {ex_skew}\\n\")\n",
    "print(f\"Kurtosis: {ex_kurt}\")"
   ]
  },
  {
   "cell_type": "markdown",
   "id": "d5418b97-2ad2-443b-ae8e-2ff46e71cb24",
   "metadata": {
    "deletable": false,
    "editable": false,
    "nbgrader": {
     "cell_type": "markdown",
     "checksum": "8506ececc1f9935b0c236bfdb8e8f535",
     "grade": false,
     "grade_id": "cell-916f43149c4d3a82",
     "locked": true,
     "schema_version": 3,
     "solution": false,
     "task": false
    }
   },
   "source": [
    "<hr style=\"border: none; height: 2px; background-color: #bcbcbc\">\n",
    "\n",
    "## Step 2: Volatility\n",
    "This second step centres on the calculation of various volatility metrics for the portfolio. Our analysis will include annual volatility, rolling volatility, beta, and the rolling beta observed.\n",
    "\n",
    "<hr style=\"border: none; border-top: 2px dashed #bcbcbc; background-color: transparent\">\n",
    "\n",
    "### Annual Volatility\n",
    "Annual volatility in a portfolio refers to the degree of fluctuation in its value over a year, typically expressed as a percentage. It's a measure of how much the portfolio's returns are expected to deviate from their average, and a higher volatility indicates greater risk. The annual volatility can be computed using the formula\n",
    "$$\\sigma_y=\\sqrt{252\\times\\text{Var}[R]}=\\sqrt{252\\times\\left(\\mathbb{E}[R^2]-\\mathbb{E}^2[R]\\right)},$$\n",
    "where $\\sigma_y$ is the annual volatility and $R$ is the daily return.\n",
    "\n",
    "Your task is to implement a function that, given a Pandas DataFrame, computes the annual volatility and returns it as a Float or NumPy Float. Calculate the annual volatility using the NumPy function `sqrt()` and either Pandas function: `var()` or `std()`."
   ]
  },
  {
   "cell_type": "code",
   "execution_count": 51,
   "id": "18805eab-3d59-4d20-bda7-495443c0a114",
   "metadata": {
    "deletable": false,
    "nbgrader": {
     "cell_type": "code",
     "checksum": "0f4a7098b04cd67b6fcc8466cfaaa26e",
     "grade": false,
     "grade_id": "cell-fff3165162584bfd",
     "locked": false,
     "schema_version": 3,
     "solution": true,
     "task": false
    }
   },
   "outputs": [],
   "source": [
    "def annual_vol(R: pd.DataFrame) -> np.float64:\n",
    "    # Insert your answer code here\n",
    "    annual_vol = np.sqrt(252*R.var()).values[0]\n",
    "    return(np.float64(annual_vol))"
   ]
  },
  {
   "cell_type": "markdown",
   "id": "aacb512b-14aa-42cd-bac7-e7275fc1d35b",
   "metadata": {
    "deletable": false,
    "editable": false,
    "nbgrader": {
     "cell_type": "markdown",
     "checksum": "d50d9120d63d5673f4ab77c8f5af0877",
     "grade": false,
     "grade_id": "cell-27934f5110d93a6c",
     "locked": true,
     "schema_version": 3,
     "solution": false,
     "task": false
    }
   },
   "source": [
    "<hr style=\"border: none; border-top: 2px dashed #bcbcbc; background-color: transparent\">\n",
    "\n",
    "### Test Cases\n",
    "The code provided below will call the `annual_vol()` function. Verify that your function's output is the correct numerical value and of the correct data type.\n",
    "\n",
    "The code provided below will also perform hidden tests to evaluate your `annual_vol()` function."
   ]
  },
  {
   "cell_type": "code",
   "execution_count": 52,
   "id": "1ea43471-a834-458a-8809-b5c8539f85c4",
   "metadata": {
    "deletable": false,
    "editable": false,
    "nbgrader": {
     "cell_type": "code",
     "checksum": "f311aebbaf4b9a4093d76f21f3930616",
     "grade": false,
     "grade_id": "cell-ba2565de03d68105",
     "locked": true,
     "schema_version": 3,
     "solution": false,
     "task": false
    }
   },
   "outputs": [
    {
     "name": "stdout",
     "output_type": "stream",
     "text": [
      "Output Value: 0.4272882640330177, Output Type: float64\n",
      "\n",
      "Expected Value: 0.4272882640330177, Expected Type: float64\n",
      "\n",
      "Passed: True\n",
      "\n"
     ]
    }
   ],
   "source": [
    "# SAMPLE GRADING\n",
    "R = daily_return(sample_prices)\n",
    "ans_1 = annual_vol(R)\n",
    "print(f\"Output Value: {ans_1}, Output Type: {type(ans_1).__name__}\\n\")\n",
    "print(\"Expected Value: 0.4272882640330177, Expected Type: float64\\n\")\n",
    "sol_1 = 0.4272882640330177\n",
    "assert (ans_1 == sol_1) and (type(ans_1).__name__ == \"float64\")\n",
    "print(\"Passed: True\\n\")"
   ]
  },
  {
   "cell_type": "code",
   "execution_count": null,
   "id": "ced8156c-3318-4092-8b0f-8d6eb324d182",
   "metadata": {
    "deletable": false,
    "editable": false,
    "nbgrader": {
     "cell_type": "code",
     "checksum": "136faf6d1a9955be1e54fa859232dc85",
     "grade": true,
     "grade_id": "cell-321a6e6857d8a6e2",
     "locked": true,
     "points": 0,
     "schema_version": 3,
     "solution": false,
     "task": false
    }
   },
   "outputs": [],
   "source": [
    "# HIDDEN GRADING"
   ]
  },
  {
   "cell_type": "markdown",
   "id": "71441898-4f48-442c-bece-a945ea5e9c1e",
   "metadata": {
    "deletable": false,
    "editable": false,
    "nbgrader": {
     "cell_type": "markdown",
     "checksum": "007261a971b8cb8ee83950b7c2b2e00c",
     "grade": false,
     "grade_id": "cell-1c2be8cbc3e006ec",
     "locked": true,
     "schema_version": 3,
     "solution": false,
     "task": false
    }
   },
   "source": [
    "<hr style=\"border: none; border-top: 2px dashed #bcbcbc; background-color: transparent\">\n",
    "\n",
    "### Rolling Volatility\n",
    "As another approach, we might want to visualise the fluctuations in a portfolio's volatility over time. This can be done by calculating the annualised rolling volatility of our portfolio. The annualised rolling volatility can be computed using the formula\n",
    "$$\\sigma_{t, w}=\\sqrt{252\\times\\text{Var}[R_{t, w}]},$$\n",
    "where $\\sigma_{t, w}$ represents the annualised volatility calculated over a rolling window of length $w$ at time $t$, and $R_{t, w}$ denotes the series of return data from the $(t-w+1)$-th data point up to the $t$-th data point.\n",
    "\n",
    "Your task is to implement a function that, given a Pandas DataFrame and an integer denoting the window length, computes the annualised rolling volatility and returns it as a Pandas DataFrame. Compute the annualised rolling volatility using the NumPy function `sqrt()`, the Pandas function `rolling()` and either Pandas function: `var()` or `std()`."
   ]
  },
  {
   "cell_type": "code",
   "execution_count": 58,
   "id": "4ae2ff9b-3e99-41b3-aae6-87a5991fb753",
   "metadata": {
    "deletable": false,
    "nbgrader": {
     "cell_type": "code",
     "checksum": "cc1d3abd6986a51c2909efe97f11c054",
     "grade": false,
     "grade_id": "cell-8d164a4d6925694e",
     "locked": false,
     "schema_version": 3,
     "solution": true,
     "task": false
    }
   },
   "outputs": [],
   "source": [
    "def rolling_vol(R: pd.DataFrame, window: int) -> pd.DataFrame:\n",
    "    # Insert your answer code here\n",
    "    rolling_vol = np.sqrt(252*R.rolling(window).var())\n",
    "    return(rolling_vol)\n",
    "    "
   ]
  },
  {
   "cell_type": "markdown",
   "id": "63d92526-8d41-4984-98d4-e9b91abbdcdd",
   "metadata": {
    "deletable": false,
    "editable": false,
    "nbgrader": {
     "cell_type": "markdown",
     "checksum": "480b790d5458a82dea63c904eb6157fc",
     "grade": false,
     "grade_id": "cell-5c05b8e07647d9c9",
     "locked": true,
     "schema_version": 3,
     "solution": false,
     "task": false
    }
   },
   "source": [
    "<hr style=\"border: none; border-top: 2px dashed #bcbcbc; background-color: transparent\">\n",
    "\n",
    "### Test Cases\n",
    "The code provided below will call the `rolling_vol()` function. Verify that your function's output is of the correct data type, that it has the correct shape and outputs the correct numerical values.\n",
    "\n",
    "The code provided below will also perform hidden tests to evaluate your `rolling_vol()` function."
   ]
  },
  {
   "cell_type": "code",
   "execution_count": 59,
   "id": "d1e88bd9-1b2b-44b9-809d-fb2c65c3781e",
   "metadata": {
    "deletable": false,
    "editable": false,
    "nbgrader": {
     "cell_type": "code",
     "checksum": "35de3e3ae7cdf8dfeb1275df4bb2222c",
     "grade": false,
     "grade_id": "cell-0237f4a496d4822a",
     "locked": true,
     "schema_version": 3,
     "solution": false,
     "task": false
    }
   },
   "outputs": [
    {
     "name": "stdout",
     "output_type": "stream",
     "text": [
      "Output Data:\n",
      "\n",
      "Ticker      Sample 1\n",
      "date                \n",
      "2001-07-03       NaN\n",
      "2001-07-05       NaN\n",
      "2001-07-06       NaN\n",
      "2001-07-09       NaN\n",
      "2001-07-10       NaN\n",
      "...              ...\n",
      "2002-08-26  0.515158\n",
      "2002-08-27  0.517418\n",
      "2002-08-28  0.520124\n",
      "2002-08-29  0.518259\n",
      "2002-08-30  0.518451\n",
      "\n",
      "[290 rows x 1 columns]\n",
      "\n",
      "Output Type: DataFrame, Output Shape: (290, 1)\n",
      "\n",
      "Expected Type: DataFrame, Expected Shape: (290, 1)\n",
      "\n",
      "Passed: True\n",
      "\n"
     ]
    }
   ],
   "source": [
    "# SAMPLE GRADING\n",
    "R = daily_return(sample_prices)\n",
    "ans_1 = rolling_vol(R, 21 * 3)\n",
    "print(f\"Output Data:\\n\\n{ans_1}\\n\\nOutput Type: {type(ans_1).__name__}, Output Shape: {ans_1.shape}\\n\")\n",
    "print(\"Expected Type: DataFrame, Expected Shape: (290, 1)\\n\")\n",
    "sol_1 = [0.5184514775353356, 0.5182588513131442, 0.5201239852361912]\n",
    "for i in range(1, 4):\n",
    "    assert sol_1[i - 1] == ans_1.iloc[- i, 0]\n",
    "assert (type(ans_1).__name__ == \"DataFrame\") and (ans_1.shape == (290, 1))\n",
    "print(\"Passed: True\\n\")"
   ]
  },
  {
   "cell_type": "code",
   "execution_count": null,
   "id": "0fdf6abc-c2ff-4ce0-9a55-ad6aabb1750e",
   "metadata": {
    "deletable": false,
    "editable": false,
    "nbgrader": {
     "cell_type": "code",
     "checksum": "00d9bda3698996b1255e032cb073217a",
     "grade": true,
     "grade_id": "cell-4db6b1ec640a2c66",
     "locked": true,
     "points": 0,
     "schema_version": 3,
     "solution": false,
     "task": false
    }
   },
   "outputs": [],
   "source": [
    "# HIDDEN GRADING"
   ]
  },
  {
   "cell_type": "markdown",
   "id": "a5c04bce-79e8-4454-b875-3c4639e16c30",
   "metadata": {
    "deletable": false,
    "editable": false,
    "nbgrader": {
     "cell_type": "markdown",
     "checksum": "9e93574bf82187a47857a3556ca8287e",
     "grade": false,
     "grade_id": "cell-5e28a2251c4273c0",
     "locked": true,
     "schema_version": 3,
     "solution": false,
     "task": false
    }
   },
   "source": [
    "<hr style=\"border: none; border-top: 2px dashed #bcbcbc; background-color: transparent\">\n",
    "\n",
    "### Beta\n",
    "An important risk metric is beta, which measures how volatile a security is relative to the general market. In essence, it demonstrates the degree to which a security's price tends to move in tandem with wider market trends. Notably, when $\\beta>1$, the portfolio exhibits greater volatility than the benchmark, and conversely, when $\\beta<1$, it demonstrates lower volatility. Beta can be computed using the formula\n",
    "$$\\beta=\\frac{\\text{Cov}(R_p, R_b)}{\\text{Var}[R_b]}=\\frac{\\mathbb{E}[R_pR_b]-\\mathbb{E}[R_p]\\mathbb{E}[R_b]}{\\mathbb{E}[R_b^2]-\\mathbb{E}^2[R_b]},$$\n",
    "where $\\beta$ is the beta of the portfolio in comparison to the benchmark, $R_p$ is the return of the portfolio and $R_b$ is the return of the benchmark.\n",
    "\n",
    "Your task is to implement a function that, given two Pandas DataFrame, computes the beta and returns it as a Float or NumPy float. Below is code that computes the covariance between two datasets using Pandas.\n",
    "```python\n",
    "R_p.iloc[:, 0].cov(R_b.iloc[:, 0])\n",
    "```\n",
    "In addition to this code, use either Pandas function: `var()` or `std()`. Ensure that your function returns a **Float** or **NumPy Float!**"
   ]
  },
  {
   "cell_type": "code",
   "execution_count": 109,
   "id": "f0672af5-1da1-495f-bd06-a7261fece4d3",
   "metadata": {
    "deletable": false,
    "nbgrader": {
     "cell_type": "code",
     "checksum": "aee7e3d664ac50ae8184bbb664161cc2",
     "grade": false,
     "grade_id": "cell-0547fe04f169c1ee",
     "locked": false,
     "schema_version": 3,
     "solution": true,
     "task": false
    }
   },
   "outputs": [],
   "source": [
    "def beta(R_p: pd.DataFrame, R_b: pd.DataFrame) -> np.float64:\n",
    "    # Computing the covariance is given to you, .iloc[:, 0] is just\n",
    "    # a way to access the entire first column of data\n",
    "    # Insert your answer code here\n",
    "    cov = R_p.iloc[:, 0].cov(R_b.iloc[:, 0])\n",
    "    var = R_b.iloc[:, 0].var()\n",
    "    return np.float64(cov / var)"
   ]
  },
  {
   "cell_type": "markdown",
   "id": "71d19477-cf0d-4cf3-a52b-1e4f7d57cdeb",
   "metadata": {
    "deletable": false,
    "editable": false,
    "nbgrader": {
     "cell_type": "markdown",
     "checksum": "db9ec987a5ca0ce483572105d5843334",
     "grade": false,
     "grade_id": "cell-07bc688b4cbd28aa",
     "locked": true,
     "schema_version": 3,
     "solution": false,
     "task": false
    }
   },
   "source": [
    "<hr style=\"border: none; border-top: 2px dashed #bcbcbc; background-color: transparent\">\n",
    "\n",
    "### Test Cases\n",
    "The code provided below will call the `beta()` function. Verify that your function's output is the correct numerical value and of the correct data type.\n",
    "\n",
    "The code provided below will also perform hidden tests to evaluate your `beta()` function."
   ]
  },
  {
   "cell_type": "code",
   "execution_count": 110,
   "id": "547a0431-96a9-4d2c-a2f0-29b3f5276778",
   "metadata": {
    "deletable": false,
    "editable": false,
    "nbgrader": {
     "cell_type": "code",
     "checksum": "543008110bbe4aae14ca5684c947742d",
     "grade": false,
     "grade_id": "cell-a3fd3be3287e77c6",
     "locked": true,
     "schema_version": 3,
     "solution": false,
     "task": false
    }
   },
   "outputs": [
    {
     "name": "stdout",
     "output_type": "stream",
     "text": [
      "Output Value: 1.296146485830517, Output Type: float64\n",
      "\n",
      "Expected Value: 1.296146485830518, Expected Type: float64\n",
      "\n"
     ]
    },
    {
     "ename": "AssertionError",
     "evalue": "",
     "output_type": "error",
     "traceback": [
      "\u001b[31m---------------------------------------------------------------------------\u001b[39m",
      "\u001b[31mAssertionError\u001b[39m                            Traceback (most recent call last)",
      "\u001b[36mCell\u001b[39m\u001b[36m \u001b[39m\u001b[32mIn[110]\u001b[39m\u001b[32m, line 8\u001b[39m\n\u001b[32m      6\u001b[39m \u001b[38;5;28mprint\u001b[39m(\u001b[33m\"\u001b[39m\u001b[33mExpected Value: 1.296146485830518, Expected Type: float64\u001b[39m\u001b[38;5;130;01m\\n\u001b[39;00m\u001b[33m\"\u001b[39m)\n\u001b[32m      7\u001b[39m sol_1 = \u001b[32m1.296146485830518\u001b[39m\n\u001b[32m----> \u001b[39m\u001b[32m8\u001b[39m \u001b[38;5;28;01massert\u001b[39;00m (ans_1 == sol_1) \u001b[38;5;129;01mand\u001b[39;00m (\u001b[38;5;28mtype\u001b[39m(ans_1).\u001b[34m__name__\u001b[39m == \u001b[33m\"\u001b[39m\u001b[33mfloat64\u001b[39m\u001b[33m\"\u001b[39m)\n\u001b[32m      9\u001b[39m \u001b[38;5;28mprint\u001b[39m(\u001b[33m\"\u001b[39m\u001b[33mPassed: True\u001b[39m\u001b[38;5;130;01m\\n\u001b[39;00m\u001b[33m\"\u001b[39m)\n",
      "\u001b[31mAssertionError\u001b[39m: "
     ]
    }
   ],
   "source": [
    "# SAMPLE GRADING\n",
    "R_p = daily_return(sample_prices)\n",
    "R_b = daily_return(sample_prices + 5)\n",
    "ans_1 = beta(R_p, R_b)\n",
    "print(f\"Output Value: {ans_1}, Output Type: {type(ans_1).__name__}\\n\")\n",
    "print(\"Expected Value: 1.296146485830518, Expected Type: float64\\n\")\n",
    "sol_1 = 1.296146485830518\n",
    "assert (ans_1 == sol_1) and (type(ans_1).__name__ == \"float64\")\n",
    "print(\"Passed: True\\n\")"
   ]
  },
  {
   "cell_type": "code",
   "execution_count": null,
   "id": "8c55d3a1-6dbc-49a9-a86c-d52d90607993",
   "metadata": {
    "deletable": false,
    "editable": false,
    "nbgrader": {
     "cell_type": "code",
     "checksum": "6e08c59c688cee55361d0ad739b02036",
     "grade": true,
     "grade_id": "cell-1c64905eaaec42a1",
     "locked": true,
     "points": 0,
     "schema_version": 3,
     "solution": false,
     "task": false
    }
   },
   "outputs": [],
   "source": [
    "# HIDDEN GRADING"
   ]
  },
  {
   "cell_type": "markdown",
   "id": "f06784fe-9a2a-4259-abc3-96326ab7e0e0",
   "metadata": {
    "deletable": false,
    "editable": false,
    "nbgrader": {
     "cell_type": "markdown",
     "checksum": "cbb2074569ff47fad604825b467bc885",
     "grade": false,
     "grade_id": "cell-e0002493cefc9b95",
     "locked": true,
     "schema_version": 3,
     "solution": false,
     "task": false
    }
   },
   "source": [
    "<hr style=\"border: none; border-top: 2px dashed #bcbcbc; background-color: transparent\">\n",
    "\n",
    "### Rolling Beta\n",
    "As another approach, we might want to visualise the fluctuations in a portfolio's beta over time. This can be done by computing the rolling beta of our portfolio. The rolling beta of a portfolio can be computed using the formula\n",
    "$$\\beta_{t, w}=\\frac{\\text{Cov}(R_{p, t, w}, R_{b, t, w})}{\\text{Var}[R_{b, t, w}]}=\\frac{\\mathbb{E}[R_{p, t, w}R_{b, t, w}]-\\mathbb{E}[R_{p, t, w}]\\mathbb{E}[R_{b, t, w}]}{\\mathbb{E}[R_{b, t, w}^2]-\\mathbb{E}^2[R_{b, t, w}]},$$\n",
    "where $\\beta_{t, w}$ represents the beta calculated over a rolling window of length $w$ at time $t$, $R_{p, t, w}$ denotes the series of portfolio return data from the $(t-w+1)$-th data point up to the $t$-th data point, and $R_{b, t, w}$ denotes the series of benchmark return data from the $(t-w+1)$-th data point up to the $t$-th data point.\n",
    "\n",
    "Your task is to implement a function that, given a Pandas DataFrame and an integer denoting the window length, computes the rolling beta and returns it as a Pandas DataFrame. Below is code that computes the rolling covariance between two datasets using Pandas.\n",
    "```python\n",
    "R_p.iloc[:, 0].rolling(window).cov(R_b.iloc[:, 0])\n",
    "```\n",
    "In this example, `window` is an integer referring to the window length. In addition to this code, use either Pandas function: `var()` or `std()`. Ensure that your function returns a Pandas DataFrame."
   ]
  },
  {
   "cell_type": "code",
   "execution_count": 115,
   "id": "5244d792-7a5a-4427-b058-04ef2326469a",
   "metadata": {
    "deletable": false,
    "nbgrader": {
     "cell_type": "code",
     "checksum": "a4548565f26eb587384079dc53b141fb",
     "grade": false,
     "grade_id": "cell-db7149c53ae64154",
     "locked": false,
     "schema_version": 3,
     "solution": true,
     "task": false
    }
   },
   "outputs": [],
   "source": [
    "def rolling_beta(R_p: pd.DataFrame, R_b: pd.DataFrame, window: int) -> pd.DataFrame:\n",
    "    # Computing the covariance is given to you, .iloc[:, 0] is just\n",
    "    # a way to access the entire first column of data\n",
    "    cov = R_p.iloc[:, 0].rolling(window).cov(R_b.iloc[:, 0])\n",
    "\n",
    "    # Insert your answer code here\n",
    "    var = R_b.iloc[:, 0].rolling(window).var()\n",
    "    rolling_beta = cov / var\n",
    "    return rolling_beta.to_frame(name=\"rolling_beta\")"
   ]
  },
  {
   "cell_type": "markdown",
   "id": "e727301d-2925-4a3e-943a-9ecd89073cbe",
   "metadata": {
    "deletable": false,
    "editable": false,
    "nbgrader": {
     "cell_type": "markdown",
     "checksum": "41e6209e7b231593ab50fb3e3c00abd7",
     "grade": false,
     "grade_id": "cell-acb79dc0c3742542",
     "locked": true,
     "schema_version": 3,
     "solution": false,
     "task": false
    }
   },
   "source": [
    "<hr style=\"border: none; border-top: 2px dashed #bcbcbc; background-color: transparent\">\n",
    "\n",
    "### Test Cases\n",
    "The code provided below will call the `rolling_beta()` function. Verify that your function's output is of the correct data type, that it has the correct shape and outputs the correct numerical values.\n",
    "\n",
    "The code provided below will also perform hidden tests to evaluate your `rolling_beta()` function."
   ]
  },
  {
   "cell_type": "code",
   "execution_count": 116,
   "id": "7fcb59a8-9157-43f9-9ab3-2547584bbf07",
   "metadata": {
    "deletable": false,
    "editable": false,
    "nbgrader": {
     "cell_type": "code",
     "checksum": "24776c6fc0721ccc35a62ded9a435904",
     "grade": false,
     "grade_id": "cell-c1d32096ad808d67",
     "locked": true,
     "schema_version": 3,
     "solution": false,
     "task": false
    }
   },
   "outputs": [
    {
     "name": "stdout",
     "output_type": "stream",
     "text": [
      "Output Data:\n",
      "\n",
      "            rolling_beta\n",
      "date                    \n",
      "2001-07-03           NaN\n",
      "2001-07-05           NaN\n",
      "2001-07-06           NaN\n",
      "2001-07-09           NaN\n",
      "2001-07-10           NaN\n",
      "...                  ...\n",
      "2002-08-26      1.336878\n",
      "2002-08-27      1.336714\n",
      "2002-08-28      1.336671\n",
      "2002-08-29      1.336904\n",
      "2002-08-30      1.336922\n",
      "\n",
      "[290 rows x 1 columns]\n",
      "\n",
      "Output Type: DataFrame, Output Shape: (290, 1)\n",
      "\n",
      "Expected Type: DataFrame, Expected Shape: (290, 1)\n",
      "\n",
      "Passed: True\n",
      "\n"
     ]
    }
   ],
   "source": [
    "# SAMPLE GRADING\n",
    "R_p = daily_return(sample_prices)\n",
    "R_b = daily_return(sample_prices + 5)\n",
    "ans_1 = rolling_beta(R_p, R_b, 21 * 3)\n",
    "print(f\"Output Data:\\n\\n{ans_1}\\n\\nOutput Type: {type(ans_1).__name__}, Output Shape: {ans_1.shape}\\n\")\n",
    "print(\"Expected Type: DataFrame, Expected Shape: (290, 1)\\n\")\n",
    "sol_1 = [1.3369219908431684, 1.33690374330508, 1.3366711560422386]\n",
    "for i in range(1, 4):\n",
    "    assert sol_1[i - 1] == ans_1.iloc[- i, 0]\n",
    "assert (type(ans_1).__name__ == \"DataFrame\") and (ans_1.shape == (290, 1))\n",
    "print(\"Passed: True\\n\")"
   ]
  },
  {
   "cell_type": "code",
   "execution_count": null,
   "id": "41737ba2-852a-4bfe-9196-80351bfd7649",
   "metadata": {
    "deletable": false,
    "editable": false,
    "nbgrader": {
     "cell_type": "code",
     "checksum": "9896e621617d46d4a26a3f91725664a3",
     "grade": true,
     "grade_id": "cell-9a38d3e0661642f9",
     "locked": true,
     "points": 0,
     "schema_version": 3,
     "solution": false,
     "task": false
    }
   },
   "outputs": [],
   "source": [
    "# HIDDEN GRADING"
   ]
  },
  {
   "cell_type": "markdown",
   "id": "0357e7c5-a50e-4646-ad13-2d6e1d598407",
   "metadata": {
    "deletable": false,
    "editable": false,
    "nbgrader": {
     "cell_type": "markdown",
     "checksum": "331444a296401afe8310b14cfb287d60",
     "grade": false,
     "grade_id": "cell-a55220876c92602f",
     "locked": true,
     "schema_version": 3,
     "solution": false,
     "task": false
    }
   },
   "source": [
    "<hr style=\"border: none; height: 2px; background-color: #bcbcbc\">\n",
    "\n",
    "## Step 3: Risk-Adjusted Return\n",
    "This stage focuses on the computation of several risk-adjusted return metrics for the portfolio. These metrics assess the return achieved relative to the risk taken. Our analysis will encompass the Sharpe ratio, which provides a single measure of risk-adjusted return using the excess return over a risk-free rate and the portfolio's standard deviation. We will also examine the rolling Sharpe ratio, which calculates this metric over a moving window of time, offering insights into how the risk-adjusted return has evolved.\n",
    "\n",
    "<hr style=\"border: none; border-top: 2px dashed #bcbcbc; background-color: transparent\">\n",
    "\n",
    "### Sharpe Ratio\n",
    "The Sharpe ratio is a widely used measure that quantifies an investment's return relative to the risk taken to achieve that return. Your task is to create a function that calculates the Sharpe ratio, given the daily return and an annual risk-free rate. The Sharpe ratio can be computed using the formula\n",
    "$$S=\\frac{\\mu_y-r_f}{\\sigma_y},$$\n",
    "where $\\mu_y$ is the expected annual return, $r_f$ is the annual risk-free rate and $\\sigma_y$ is the annual volatility.\n",
    "\n",
    "Your task is to implement a function that, given a Pandas DataFrame and a float denoting the annual risk-free rate, computes the Sharpe ratio and returns it as a Float or NumPy float. Calculate the expected annual return using your function `expected_return()` and extracting $\\mu_y$ and calculate the annual volatility by using your function `annual_vol()`."
   ]
  },
  {
   "cell_type": "markdown",
   "id": "7c31d0bc-7295-4a62-b4dc-0d8ddda71681",
   "metadata": {
    "editable": false,
    "nbgrader": {
     "cell_type": "markdown",
     "checksum": "331444a296401afe8310b14cfb287d60",
     "grade": false,
     "grade_id": "cell-a55220876c92602f",
     "locked": true,
     "schema_version": 3,
     "solution": false,
     "task": false
    }
   },
   "source": [
    "<hr style=\"border: none; height: 2px; background-color: #bcbcbc\">\n",
    "\n",
    "## Step 3: Risk-Adjusted Return\n",
    "This stage focuses on the computation of several risk-adjusted return metrics for the portfolio. These metrics assess the return achieved relative to the risk taken. Our analysis will encompass the Sharpe ratio, which provides a single measure of risk-adjusted return using the excess return over a risk-free rate and the portfolio's standard deviation. We will also examine the rolling Sharpe ratio, which calculates this metric over a moving window of time, offering insights into how the risk-adjusted return has evolved.\n",
    "\n",
    "<hr style=\"border: none; border-top: 2px dashed #bcbcbc; background-color: transparent\">\n",
    "\n",
    "### Sharpe Ratio\n",
    "The Sharpe ratio is a widely used measure that quantifies an investment's return relative to the risk taken to achieve that return. Your task is to create a function that calculates the Sharpe ratio, given the daily return and an annual risk-free rate. The Sharpe ratio can be computed using the formula\n",
    "$$S=\\frac{\\mu_y-r_f}{\\sigma_y},$$\n",
    "where $\\mu_y$ is the expected annual return, $r_f$ is the annual risk-free rate and $\\sigma_y$ is the annual volatility.\n",
    "\n",
    "Your task is to implement a function that, given a Pandas DataFrame and a float denoting the annual risk-free rate, computes the Sharpe ratio and returns it as a Float or NumPy float. Calculate the expected annual return using your function `expected_return()` and extracting $\\mu_y$ and calculate the annual volatility by using your function `annual_vol()`."
   ]
  },
  {
   "cell_type": "code",
   "execution_count": 146,
   "id": "384f24a0-aace-409f-997e-a944478720f0",
   "metadata": {
    "deletable": false,
    "nbgrader": {
     "cell_type": "code",
     "checksum": "2f1093e9c200f2108e1d86d0d9c24d9b",
     "grade": false,
     "grade_id": "cell-ad10f402075c22db",
     "locked": false,
     "schema_version": 3,
     "solution": true,
     "task": false
    }
   },
   "outputs": [],
   "source": [
    "def sharpe_ratio(R: pd.DataFrame, r_f: float) -> np.float64:\n",
    "    # Insert your answer code here\n",
    "    mu_y = 252 * R.mean().values[0]\n",
    "    sigma = annual_vol(R)\n",
    "    sharpe_ratio = (mu_y - r_f)/sigma\n",
    "    return np.float64(sharpe_ratio)"
   ]
  },
  {
   "cell_type": "markdown",
   "id": "8e3fedc0-88fc-4d2f-ae55-474d365d6ff0",
   "metadata": {
    "deletable": false,
    "editable": false,
    "nbgrader": {
     "cell_type": "markdown",
     "checksum": "9733c926f2098b32bb1edc9a69a983fc",
     "grade": false,
     "grade_id": "cell-d76afbc94d01658f",
     "locked": true,
     "schema_version": 3,
     "solution": false,
     "task": false
    }
   },
   "source": [
    "<hr style=\"border: none; border-top: 2px dashed #bcbcbc; background-color: transparent\">\n",
    "\n",
    "### Test Cases\n",
    "The code provided below will call the `sharpe_ratio()` function. Verify that your function's output is the correct numerical value and of the correct data type.\n",
    "\n",
    "The code provided below will also perform hidden tests to evaluate your `sharpe_ratio()` function."
   ]
  },
  {
   "cell_type": "code",
   "execution_count": 147,
   "id": "c697be3a-5fa8-4da6-8b80-980892540723",
   "metadata": {
    "deletable": false,
    "editable": false,
    "nbgrader": {
     "cell_type": "code",
     "checksum": "4b1a83868f4bac8f45fd1126e60afc45",
     "grade": false,
     "grade_id": "cell-a2246b76281999cc",
     "locked": true,
     "schema_version": 3,
     "solution": false,
     "task": false
    }
   },
   "outputs": [
    {
     "name": "stdout",
     "output_type": "stream",
     "text": [
      "Output Value: -0.5500420011933707, Output Type: float64\n",
      "\n",
      "Expected Value: -0.5500420011933707, Expected Type: float64\n",
      "\n",
      "Passed: True\n",
      "\n"
     ]
    }
   ],
   "source": [
    "# SAMPLE GRADING\n",
    "R = daily_return(sample_prices)\n",
    "ans_1 = sharpe_ratio(R, 0.01)\n",
    "print(f\"Output Value: {ans_1}, Output Type: {type(ans_1).__name__}\\n\")\n",
    "print(\"Expected Value: -0.5500420011933707, Expected Type: float64\\n\")\n",
    "sol_1 = -0.5500420011933707\n",
    "assert (ans_1 == sol_1) and (type(ans_1).__name__ == \"float64\")\n",
    "print(\"Passed: True\\n\")"
   ]
  },
  {
   "cell_type": "code",
   "execution_count": null,
   "id": "190ab486-553a-4a42-b15d-c73004aaaf01",
   "metadata": {
    "deletable": false,
    "editable": false,
    "nbgrader": {
     "cell_type": "code",
     "checksum": "6ebaac48a91f072ea053ddbd751d3be7",
     "grade": true,
     "grade_id": "cell-5bba89875e4f977a",
     "locked": true,
     "points": 0,
     "schema_version": 3,
     "solution": false,
     "task": false
    }
   },
   "outputs": [],
   "source": [
    "# HIDDEN GRADING"
   ]
  },
  {
   "cell_type": "markdown",
   "id": "7188a50c-ef66-4196-bde1-a0f8a6a6e9f8",
   "metadata": {
    "deletable": false,
    "editable": false,
    "nbgrader": {
     "cell_type": "markdown",
     "checksum": "305b0901bc7e6c996a50070f94797765",
     "grade": false,
     "grade_id": "cell-155e06990ccfdae6",
     "locked": true,
     "schema_version": 3,
     "solution": false,
     "task": false
    }
   },
   "source": [
    "<hr style=\"border: none; border-top: 2px dashed #bcbcbc; background-color: transparent\">\n",
    "\n",
    "### Rolling Sharpe Ratio\n",
    "Similar to rolling volatility and beta, the rolling Sharpe ratio helps visualise how the risk-adjusted return changes over time. The Sharpe ratio of a portfolio can be computed using the formula\n",
    "$$S_{t, w}=\\frac{\\mu_{t, w}-r_f}{\\sigma_{t, w}}, $$\n",
    "where $S_{t, w}$ represents the Sharpe ratio calculated over a rolling window of length $w$ at time $t$, $\\mu_{t, w}$ denotes the annualised expected return of the portfolio computed using the series of return data from the $(t-w+1)$-th data point up to the $t$-th data point, $r_f$ is the annual risk-free rate, and $\\sigma_{t, w}$ denotes the annualised volatility of the portfolio computed using the series of return data from the $(t-w+1)$-th data point up to the $t$-th data point.\n",
    "\n",
    "Your task is to implement a function that, given a Pandas DataFrame, a float denoting the risk-free rate and an integer denoting the window length, computes the rolling Sharpe ratio and returns it as a Pandas DataFrame. To compute the rolling Sharpe ratio, use the Pandas function `rolling()`, `mean()` and use your function `rolling_vol()`."
   ]
  },
  {
   "cell_type": "code",
   "execution_count": 164,
   "id": "c61115f5-100c-439c-9b5d-898efc2b7d7c",
   "metadata": {
    "deletable": false,
    "nbgrader": {
     "cell_type": "code",
     "checksum": "f8702eaa6fa7c7c8b521f24e0abd4942",
     "grade": false,
     "grade_id": "cell-26c16eed4d86377e",
     "locked": false,
     "schema_version": 3,
     "solution": true,
     "task": false
    }
   },
   "outputs": [],
   "source": [
    "def rolling_sharpe(R: pd.DataFrame, r_f: float, window: int) -> np.float64:\n",
    "    # Insert your answer code here\n",
    "    rolling_mu_y = R.rolling(window).mean() * 252\n",
    "    rolling_sigma = rolling_vol(R, window)\n",
    "    rolling_sharpe = (rolling_mu_y - r_f)/rolling_sigma\n",
    "    return rolling_sharpe\n",
    "    "
   ]
  },
  {
   "cell_type": "markdown",
   "id": "583fdcdf-f047-413a-963b-c427a5d91348",
   "metadata": {
    "deletable": false,
    "editable": false,
    "nbgrader": {
     "cell_type": "markdown",
     "checksum": "2ffd9f161202ad563c8b80f5db8cf3f2",
     "grade": false,
     "grade_id": "cell-1d1d238a3c40b15b",
     "locked": true,
     "schema_version": 3,
     "solution": false,
     "task": false
    }
   },
   "source": [
    "<hr style=\"border: none; border-top: 2px dashed #bcbcbc; background-color: transparent\">\n",
    "\n",
    "### Test Cases\n",
    "The code provided below will call the `rolling_sharpe()` function. Verify that your function's output is of the correct data type, that it has the correct shape and outputs the correct numerical values.\n",
    "\n",
    "The code provided below will also perform hidden tests to evaluate your `rolling_sharpe()` function."
   ]
  },
  {
   "cell_type": "code",
   "execution_count": 165,
   "id": "15784f81-4027-4592-9291-2cd37091a6c2",
   "metadata": {
    "deletable": false,
    "editable": false,
    "nbgrader": {
     "cell_type": "code",
     "checksum": "096acd0dc7c013f6af93906ccbcc5a80",
     "grade": false,
     "grade_id": "cell-54253de12c91e49c",
     "locked": true,
     "schema_version": 3,
     "solution": false,
     "task": false
    }
   },
   "outputs": [
    {
     "name": "stdout",
     "output_type": "stream",
     "text": [
      "Output Data:\n",
      "\n",
      "Ticker      Sample 1\n",
      "date                \n",
      "2001-07-03       NaN\n",
      "2001-07-05       NaN\n",
      "2001-07-06       NaN\n",
      "2001-07-09       NaN\n",
      "2001-07-10       NaN\n",
      "...              ...\n",
      "2002-08-26  0.200698\n",
      "2002-08-27  0.054682\n",
      "2002-08-28 -0.253927\n",
      "2002-08-29  0.186663\n",
      "2002-08-30  0.180195\n",
      "\n",
      "[290 rows x 1 columns]\n",
      "\n",
      "Output Type: DataFrame, Output Shape: (290, 1)\n",
      "\n",
      "Expected Type: DataFrame, Expected Shape: (290, 1)\n",
      "\n",
      "Passed: True\n",
      "\n"
     ]
    }
   ],
   "source": [
    "# SAMPLE GRADING\n",
    "R = daily_return(sample_prices)\n",
    "ans_1 = rolling_sharpe(R, 0.01, 21 * 3)\n",
    "print(f\"Output Data:\\n\\n{ans_1}\\n\\nOutput Type: {type(ans_1).__name__}, Output Shape: {ans_1.shape}\\n\")\n",
    "print(\"Expected Type: DataFrame, Expected Shape: (290, 1)\\n\")\n",
    "sol_1 = [0.18019545509109397, 0.18666311726603318, -0.25392721666235707]\n",
    "for i in range(1, 4):\n",
    "    assert sol_1[i - 1] == ans_1.iloc[- i, 0]\n",
    "assert (type(ans_1).__name__ == \"DataFrame\") and (ans_1.shape == (290, 1))\n",
    "print(\"Passed: True\\n\")"
   ]
  },
  {
   "cell_type": "code",
   "execution_count": null,
   "id": "8a6384ee-e5ef-4490-a76f-9d14ac77a95f",
   "metadata": {
    "deletable": false,
    "editable": false,
    "nbgrader": {
     "cell_type": "code",
     "checksum": "f71dbf940e49ba8c00df0a1f6f270025",
     "grade": true,
     "grade_id": "cell-6e7183c88fffc4da",
     "locked": true,
     "points": 0,
     "schema_version": 3,
     "solution": false,
     "task": false
    }
   },
   "outputs": [],
   "source": [
    "# HIDDEN GRADING"
   ]
  },
  {
   "cell_type": "markdown",
   "id": "ec79bd9c-d582-4351-b826-11259dc09bca",
   "metadata": {
    "deletable": false,
    "editable": false,
    "nbgrader": {
     "cell_type": "markdown",
     "checksum": "8a56d1dcc8c30b08069b1d9180eef3d8",
     "grade": false,
     "grade_id": "cell-12d880f32f7929d4",
     "locked": true,
     "schema_version": 3,
     "solution": false,
     "task": false
    }
   },
   "source": [
    "<hr style=\"border: none; height: 2px; background-color: #bcbcbc\">\n",
    "\n",
    "## Step 4: Risk\n",
    "This concluding stage involves developing functions to calculate crucial risk metrics, commonly employed in investment risk management. Specifically, we will create functions for Value at Risk (VaR), which estimates the potential loss in portfolio value over a specified time horizon at a given confidence level, and Conditional Value at Risk (CVaR), also known as Expected Shortfall, which estimates the expected loss given that the loss exceeds the VaR.\n",
    "\n",
    "<hr style=\"border: none; border-top: 2px dashed #bcbcbc; background-color: transparent\">\n",
    "\n",
    "### Value-at-Risk\n",
    "VaR is a statistical measure quantifying the potential loss in value of an asset or portfolio over a specific time period and at a given confidence level. In simpler terms, it estimates the maximum amount of money you could lose with a certain probability. For the sake of ease, we will calculate VaR using the Historical method. The daily Historical VaR at a confidence level $0\\leq c\\leq100$ is determined by the return at the $\\alpha$-th percentile.\n",
    "\n",
    "Implement a function that calculates the daily VaR using the Historical method. The function should receive daily returns and a confidence level as input parameters and return a NumPy float.\n",
    "\n",
    "**Hint:** The NumPy functions `quantile()` or `percentile()` are useful here. If you decide to use `quantile()`, the significance level is defined as $\\alpha=\\frac{100-c}{100}$. If you decide to use `percentile()`, the significance level is defined as $\\alpha=100-c$."
   ]
  },
  {
   "cell_type": "code",
   "execution_count": 168,
   "id": "16f8682b-1abf-4465-a687-522a9ce04d88",
   "metadata": {
    "deletable": false,
    "nbgrader": {
     "cell_type": "code",
     "checksum": "2a9a0a14e818456fe322894bb12a4ff7",
     "grade": false,
     "grade_id": "cell-81da43e15754ddf1",
     "locked": false,
     "schema_version": 3,
     "solution": true,
     "task": false
    }
   },
   "outputs": [],
   "source": [
    "def hist_var(R: pd.DataFrame, c: float, seed: int = 0) -> np.float64:\n",
    "    # Fixes the seed for a reproducible result\n",
    "    np.random.seed(seed)\n",
    "\n",
    "    # Insert your answer code here\n",
    "    alpha = (100 - c) / 100\n",
    "    returns = R.values.flatten()\n",
    "    var = np.quantile(returns, alpha)\n",
    "    return np.float64(var)"
   ]
  },
  {
   "cell_type": "markdown",
   "id": "9b7ed0b2-2d11-4797-b9c5-96e003eb7574",
   "metadata": {
    "deletable": false,
    "editable": false,
    "nbgrader": {
     "cell_type": "markdown",
     "checksum": "27da607d6868641b79f46b91b7cb6dbf",
     "grade": false,
     "grade_id": "cell-6bccf66cf89dda55",
     "locked": true,
     "schema_version": 3,
     "solution": false,
     "task": false
    }
   },
   "source": [
    "<hr style=\"border: none; border-top: 2px dashed #bcbcbc; background-color: transparent\">\n",
    "\n",
    "### Test Cases\n",
    "The code provided below will call the `hist_var()` function. Verify that your function's output is of the correct data type, and that it has the correct sign.\n",
    "\n",
    "The code provided below will also perform hidden tests to evaluate your `hist_var()` function."
   ]
  },
  {
   "cell_type": "code",
   "execution_count": 169,
   "id": "b5bc713a-740d-43c1-9fc4-be9c7fdb0d16",
   "metadata": {
    "deletable": false,
    "editable": false,
    "nbgrader": {
     "cell_type": "code",
     "checksum": "9bf980f08de85d2d874a1f784c9bc4bc",
     "grade": false,
     "grade_id": "cell-9bb488c3ba01a45c",
     "locked": true,
     "schema_version": 3,
     "solution": false,
     "task": false
    }
   },
   "outputs": [
    {
     "name": "stdout",
     "output_type": "stream",
     "text": [
      "Output Value: -0.041378662685499314, Output Type: float64\n",
      "\n",
      "Expected Value: -0.041378662685499314, Expected Type: float64\n",
      "\n",
      "Passed: True\n",
      "\n"
     ]
    }
   ],
   "source": [
    "# SAMPLE GRADING\n",
    "R = daily_return(sample_prices)\n",
    "ans_1 = hist_var(R, 95)\n",
    "print(f\"Output Value: {ans_1}, Output Type: {type(ans_1).__name__}\\n\")\n",
    "print(\"Expected Value: -0.041378662685499314, Expected Type: float64\\n\")\n",
    "sol_1 = -0.041378662685499314\n",
    "assert (ans_1 == sol_1) and (type(ans_1).__name__ == \"float64\")\n",
    "print(\"Passed: True\\n\")"
   ]
  },
  {
   "cell_type": "code",
   "execution_count": null,
   "id": "6fb7c530-0944-433b-8683-a85cebfdfc27",
   "metadata": {
    "deletable": false,
    "editable": false,
    "nbgrader": {
     "cell_type": "code",
     "checksum": "21ba03f4a370f293cfa4596d2198d349",
     "grade": true,
     "grade_id": "cell-571069ac4dec6c78",
     "locked": true,
     "points": 0,
     "schema_version": 3,
     "solution": false,
     "task": false
    }
   },
   "outputs": [],
   "source": [
    "# HIDDEN GRADING"
   ]
  },
  {
   "cell_type": "markdown",
   "id": "a2e24e33-d9ae-4a90-b76c-70d6e434baa3",
   "metadata": {
    "deletable": false,
    "editable": false,
    "nbgrader": {
     "cell_type": "markdown",
     "checksum": "d27a69022167ebfaef9716ae48631ae4",
     "grade": false,
     "grade_id": "cell-251b823ac4656378",
     "locked": true,
     "schema_version": 3,
     "solution": false,
     "task": false
    }
   },
   "source": [
    "<hr style=\"border: none; border-top: 2px dashed #bcbcbc; background-color: transparent\">\n",
    "\n",
    "### Conditional Value-at-Risk\n",
    "CVaR, quantifies the expected loss of an asset or portfolio given that the loss exceeds the VaR at a specific confidence level. In simpler terms, it estimates the average of the worst-case losses. While VaR provides a threshold for potential losses, CVaR goes further by describing the magnitude of losses beyond that threshold.\n",
    "\n",
    "The daily Historical CVaR at a confidence level $0\\leq c\\leq100$ is determined by the daily Historical VaR. To find the CVaR, we first identify the portfolio returns that fall below the daily VaR, and then calculate the mean of these returns.\n",
    "\n",
    "Implement a function that calculates the daily CVaR using the Historical method. The function should receive the portfolio's daily return and a confidence level as input parameters and return a Float or NumPy Float."
   ]
  },
  {
   "cell_type": "code",
   "execution_count": null,
   "id": "dc5a5e01-da21-4aef-8a8d-f3396b116174",
   "metadata": {
    "deletable": false,
    "nbgrader": {
     "cell_type": "code",
     "checksum": "679191168de2e6107437033f7acf8c97",
     "grade": false,
     "grade_id": "cell-8eed6f36ede81984",
     "locked": false,
     "schema_version": 3,
     "solution": true,
     "task": false
    }
   },
   "outputs": [],
   "source": [
    "def hist_cvar(R: pd.DataFrame, c: float, seed: int = 0) -> np.float64:\n",
    "    # Fixes the seed for a reproducible result\n",
    "    np.random.seed(seed)\n",
    "\n",
    "    # Obtain the CVaR threshold from hist_var\n",
    "    t = hist_var(R, c, seed = seed)\n",
    "\n",
    "    # Insert your answer code here\n",
    "    returns = R.values.flatten()\n",
    "    "
   ]
  },
  {
   "cell_type": "markdown",
   "id": "25138779-f794-465d-b556-c12b7083d963",
   "metadata": {
    "deletable": false,
    "editable": false,
    "nbgrader": {
     "cell_type": "markdown",
     "checksum": "709033d4b975a267b1d9de29f226d10d",
     "grade": false,
     "grade_id": "cell-b442e8426032d565",
     "locked": true,
     "schema_version": 3,
     "solution": false,
     "task": false
    }
   },
   "source": [
    "<hr style=\"border: none; border-top: 2px dashed #bcbcbc; background-color: transparent\">\n",
    "\n",
    "### Test Cases\n",
    "The code provided below will call the `hist_cvar()` function. Verify that your function's output is of the correct data type, and that it has the correct sign.\n",
    "\n",
    "The code provided below will also perform hidden tests to evaluate your `hist_cvar()` function."
   ]
  },
  {
   "cell_type": "code",
   "execution_count": null,
   "id": "6b9385d9-2617-44b8-8478-68d54b4a67bd",
   "metadata": {
    "deletable": false,
    "editable": false,
    "nbgrader": {
     "cell_type": "code",
     "checksum": "a0b5563cc75ca792910911c15b99a398",
     "grade": false,
     "grade_id": "cell-507085bdde82508f",
     "locked": true,
     "schema_version": 3,
     "solution": false,
     "task": false
    }
   },
   "outputs": [],
   "source": [
    "# SAMPLE GRADING\n",
    "R = daily_return(sample_prices)\n",
    "ans_1 = hist_cvar(R, 95)\n",
    "print(f\"Output Value: {ans_1}, Output Type: {type(ans_1).__name__}\\n\")\n",
    "print(\"Expected Value: -0.05594597738989968, Expected Type: float64\\n\")\n",
    "sol_1 = -0.05594597738989968\n",
    "assert (ans_1 == sol_1) and (type(ans_1).__name__ == \"float64\")\n",
    "print(\"Passed: True\\n\")"
   ]
  },
  {
   "cell_type": "code",
   "execution_count": null,
   "id": "57f951bf-5dcf-4ba4-92bc-f2dd79313592",
   "metadata": {
    "deletable": false,
    "editable": false,
    "nbgrader": {
     "cell_type": "code",
     "checksum": "b824bf14b68d51020d990ddf987e0f63",
     "grade": true,
     "grade_id": "cell-9d94977672c9ab06",
     "locked": true,
     "points": 0,
     "schema_version": 3,
     "solution": false,
     "task": false
    }
   },
   "outputs": [],
   "source": [
    "# HIDDEN GRADING"
   ]
  },
  {
   "cell_type": "markdown",
   "id": "a82e4396-94b4-44d1-9819-596d98732956",
   "metadata": {
    "deletable": false,
    "editable": false,
    "nbgrader": {
     "cell_type": "markdown",
     "checksum": "eccc579979dbab4c65910399511cda8b",
     "grade": false,
     "grade_id": "cell-927f6cfdf7102ade",
     "locked": true,
     "schema_version": 3,
     "solution": false,
     "task": false
    }
   },
   "source": [
    "<hr style=\"border: none; border-top: 2px dashed #bcbcbc; background-color: transparent\">\n",
    "\n",
    "### Drawdown\n",
    "Drawdown is a critical measure of historical risk, showing the peak-to-trough decline in a portfolio's value over a given period. For example, a fall from $£100$ to $£80$ before recovery constitutes a $20\\%$ drawdown. This metric helps us understand the potential size of losses investors might face during market downturns. The drawdown can be computed using the formula\n",
    "$$D_t=\\frac{C_t-C_t^{max}}{C_t^{max}}=\\frac{\\prod_{i=0}^{t}(R_i+1)-\\max_{0\\leq i\\leq t}C_i}{\\max_{0\\leq i\\leq t}C_i},$$\n",
    "where $D_t$ is the drawdown at time $t$ and $C_t=\\prod_{i=0}^{t}(R_i+1)$ is the cumulative return at time $t$.\n",
    "\n",
    "Your task is to implement a function that, given a Pandas DataFrame, computes the drawdown and returns it as a Pandas DataFrame. To compute the drawdown, you should use your function `cum_return()` and the Pandas function `cummax()`."
   ]
  },
  {
   "cell_type": "code",
   "execution_count": null,
   "id": "af0c4eb8-0b9b-4245-8c1f-5e89cec02bea",
   "metadata": {
    "deletable": false,
    "nbgrader": {
     "cell_type": "code",
     "checksum": "65003f75f4654cc5beec669bacefcf88",
     "grade": false,
     "grade_id": "cell-0bbc2ba735bd2c95",
     "locked": false,
     "schema_version": 3,
     "solution": true,
     "task": false
    }
   },
   "outputs": [],
   "source": [
    "def drawdown(R: pd.DataFrame) -> pd.DataFrame:\n",
    "    # Insert your answer code here\n",
    "    "
   ]
  },
  {
   "cell_type": "markdown",
   "id": "572c6c36-7c42-45a4-80cc-415c24610614",
   "metadata": {
    "deletable": false,
    "editable": false,
    "nbgrader": {
     "cell_type": "markdown",
     "checksum": "374f910b3c506aa1618aacc5868c204b",
     "grade": false,
     "grade_id": "cell-c1af664dfc71e67d",
     "locked": true,
     "schema_version": 3,
     "solution": false,
     "task": false
    }
   },
   "source": [
    "<hr style=\"border: none; border-top: 2px dashed #bcbcbc; background-color: transparent\">\n",
    "\n",
    "### Test Cases\n",
    "The code provided below will call the `drawdown()` function. Verify that your function's output is of the correct data type, that it has the correct shape and outputs the correct numerical values.\n",
    "\n",
    "The code provided below will also perform hidden tests to evaluate your `drawdown()` function."
   ]
  },
  {
   "cell_type": "code",
   "execution_count": null,
   "id": "a4014ba1-de16-4bde-848d-760353d9cb09",
   "metadata": {
    "deletable": false,
    "editable": false,
    "nbgrader": {
     "cell_type": "code",
     "checksum": "b2f79716408f194572855e8052ff624f",
     "grade": false,
     "grade_id": "cell-cc597f1193e9d3c1",
     "locked": true,
     "schema_version": 3,
     "solution": false,
     "task": false
    }
   },
   "outputs": [],
   "source": [
    "# SAMPLE GRADING\n",
    "R = daily_return(sample_prices)\n",
    "ans_1 = drawdown(R)\n",
    "print(f\"Output Data:\\n\\n{ans_1}\\n\\nOutput Type: {type(ans_1).__name__}, Output Shape: {ans_1.shape}\\n\")\n",
    "print(\"Expected Type: DataFrame, Expected Shape: (290, 1)\\n\")\n",
    "sol_1 = [-0.3236086175942549, -0.30296229802513464, -0.3195691202872531]\n",
    "for i in range(1, 4):\n",
    "    assert sol_1[i - 1] == ans_1.iloc[- i, 0]\n",
    "assert (type(ans_1).__name__ == \"DataFrame\") and (ans_1.shape == (290, 1))\n",
    "print(\"Passed: True\\n\")"
   ]
  },
  {
   "cell_type": "code",
   "execution_count": null,
   "id": "719eae64-4a91-4973-bbcc-52f6efcb1497",
   "metadata": {
    "deletable": false,
    "editable": false,
    "nbgrader": {
     "cell_type": "code",
     "checksum": "65eb959a1ab83b465f2b46e1c706108e",
     "grade": true,
     "grade_id": "cell-d3f41e15972dbbcd",
     "locked": true,
     "points": 0,
     "schema_version": 3,
     "solution": false,
     "task": false
    }
   },
   "outputs": [],
   "source": [
    "# HIDDEN GRADING"
   ]
  },
  {
   "cell_type": "markdown",
   "id": "a89c0fcb-fba5-416c-9725-def5d6e354e5",
   "metadata": {
    "deletable": false,
    "editable": false,
    "nbgrader": {
     "cell_type": "markdown",
     "checksum": "42a736e84df9e4e56fdd9db4e22dbeda",
     "grade": false,
     "grade_id": "cell-874accb13edf4fae",
     "locked": true,
     "schema_version": 3,
     "solution": false,
     "task": false
    }
   },
   "source": [
    "<hr style=\"border: none; height: 2px; background-color: #bcbcbc\">\n",
    "\n",
    "## Step 5: Plotting & Visualisation\n",
    "Utilising all the formulas and functions we have developed, we now wish to create a visual representation of the portfolio's performance in comparison to a benchmark. In this step, you will be creating tables and plots to present different metrics.\n",
    "\n",
    "<hr style=\"border: none; border-top: 2px dashed #bcbcbc; background-color: transparent\">\n",
    "\n",
    "Your task is to complete the required work within the space provided below. Inspiration for this task can be drawn from the following resources:\n",
    "- [Example Plots 1](https://quantopian.github.io/pyfolio/)\n",
    "- [Example Plots 2](https://pyfolio.ml4trading.io/)"
   ]
  },
  {
   "cell_type": "code",
   "execution_count": null,
   "id": "bf3228b8-090e-4ced-9763-d771f04a44e3",
   "metadata": {
    "deletable": false,
    "nbgrader": {
     "cell_type": "code",
     "checksum": "e33cae11511ecc2e0a29ce1c94352c5d",
     "grade": false,
     "grade_id": "cell-f37a42b51ffe65b0",
     "locked": false,
     "schema_version": 3,
     "solution": true,
     "task": false
    }
   },
   "outputs": [],
   "source": [
    "# Use this space to create plots and tables for your metrics\n",
    "\n",
    "# Insert your answer code here\n"
   ]
  },
  {
   "cell_type": "markdown",
   "id": "37b06ac8-2e6a-4336-9d48-5539e08937b9",
   "metadata": {
    "deletable": false,
    "editable": false,
    "nbgrader": {
     "cell_type": "markdown",
     "checksum": "845101e67347f6b9f18d159958a1f77c",
     "grade": false,
     "grade_id": "cell-c745ff263c5d13f9",
     "locked": true,
     "schema_version": 3,
     "solution": false,
     "task": false
    }
   },
   "source": [
    "<hr style=\"border: none; height: 2px; background-color: #bcbcbc\">\n",
    "\n",
    "# Python 3.10.10 Documentation\n",
    "[Checkout the documentation](https://docs.python.org/release/3.10.10/)\n",
    "\n",
    "[What is new in Python 3.10](https://docs.python.org/3/whatsnew/3.10.html)\n",
    "\n",
    "[Differences between Python 3 and Python 2](https://www.ibm.com/docs/en/sqsp/48?topic=scripts-python-2-python-3-differences)\n",
    "\n",
    "# Import Explanations\n",
    "## Publicly Available Packages\n",
    "1. **Matplotlib**\n",
    "   ```python\n",
    "   from matplotlib import pyplot as plt\n",
    "   ```\n",
    "   - Matplotlib is a comprehensive library for creating static, animated and interactive visualisations in Python. The `pyplot` module provides a MATLAB-like interface for making plots and graphs.\n",
    "\n",
    "2. **Pandas**\n",
    "   ```python\n",
    "   import pandas as pd\n",
    "   ```\n",
    "   - Pandas is a fast, powerful, flexible and easy-to-use open-source data analysis and manipulation tool, built on top of the Python programming language. It offers data structures like DataFrame for handling tabular data.\n",
    "\n",
    "3. **NumPy**\n",
    "   ```python\n",
    "   import numpy as np\n",
    "   ```\n",
    "   - NumPy is the fundamental package for scientific computing with Python. It provides support for large, multi-dimensional arrays and matrices, along with a collection of mathematical functions to operate on these arrays.\n",
    "  \n",
    "<hr style=\"border: none; height: 2px; background-color: #bcbcbc\">"
   ]
  }
 ],
 "metadata": {
  "kernelspec": {
   "display_name": "Python 3 (ipykernel)",
   "language": "python",
   "name": "python3"
  },
  "language_info": {
   "codemirror_mode": {
    "name": "ipython",
    "version": 3
   },
   "file_extension": ".py",
   "mimetype": "text/x-python",
   "name": "python",
   "nbconvert_exporter": "python",
   "pygments_lexer": "ipython3",
   "version": "3.12.6"
  }
 },
 "nbformat": 4,
 "nbformat_minor": 5
}
